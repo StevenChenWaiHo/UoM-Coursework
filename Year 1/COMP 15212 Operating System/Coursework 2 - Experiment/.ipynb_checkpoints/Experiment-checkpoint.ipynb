{
 "cells": [
  {
   "cell_type": "markdown",
   "metadata": {},
   "source": [
    "<h1>Caching Experiment</h1>"
   ]
  },
  {
   "cell_type": "markdown",
   "metadata": {},
   "source": [
    "<h2>Setup</h2>"
   ]
  },
  {
   "cell_type": "code",
   "execution_count": 1,
   "metadata": {},
   "outputs": [],
   "source": [
    "from memory import Memory\n",
    "from cache import LRUCache, CyclicCache, RandomCache\n",
    "\n",
    "import pandas as pd\n",
    "import matplotlib.pyplot as plt\n",
    "\n",
    "strategies = [\"LRU\", \"Cyclic\", \"Random\"]\n",
    "\n",
    "def CacheTest(strategy, dataset, cacheSize = 4):\n",
    "    \n",
    "    if strategy == \"LRU\":\n",
    "            strategy = LRUCache(cacheSize)\n",
    "    elif strategy == \"Cyclic\":\n",
    "            strategy = CyclicCache(cacheSize)\n",
    "    elif strategy == \"Random\":\n",
    "            strategy = RandomCache(cacheSize)\n",
    "    else:\n",
    "            strategy = Memory()\n",
    "            \n",
    "    for datum in dataset:\n",
    "        strategy.lookup(datum)\n",
    "    return strategy.get_hit_count()\n",
    "\n",
    "def getGraph(repeat, size, test):\n",
    "    average = [0] * len(strategies)\n",
    "\n",
    "    for _ in range(repeat):\n",
    "        temp = test(size)\n",
    "        for i in range(len(strategies)):\n",
    "            average[i] += temp[i]\n",
    "\n",
    "    for i in range(len(strategies)):\n",
    "            average[i] = average[i] / repeat\n",
    "\n",
    "    df = pd.DataFrame([strategies,average], [\"Strategy\", \"Average Hit Count\"])\n",
    "    df = df.T\n",
    "    df.set_index('Strategy', inplace=False)\n",
    "    df.head()\n",
    "\n",
    "    bars = plt.bar(df.index, df['Average Hit Count'])\n",
    "    plt.show()\n",
    "\n",
    "    for i in range(len(strategies)):\n",
    "            print(strategies[i] + \": \" + str(average[i]))"
   ]
  },
  {
   "cell_type": "markdown",
   "metadata": {},
   "source": [
    "<h1>Intro</h1>"
   ]
  },
  {
   "cell_type": "markdown",
   "metadata": {},
   "source": [
    "<h3>Every test will be repeated 100 times so that we could get the average hit count</h3>"
   ]
  },
  {
   "cell_type": "code",
   "execution_count": 2,
   "metadata": {},
   "outputs": [],
   "source": [
    "repeat = 100"
   ]
  },
  {
   "cell_type": "markdown",
   "metadata": {},
   "source": [
    "<h1>Size 4 Cache</h1>"
   ]
  },
  {
   "cell_type": "markdown",
   "metadata": {},
   "source": [
    "<h2>Random Dataset</h2>"
   ]
  },
  {
   "cell_type": "markdown",
   "metadata": {},
   "source": [
    "<h4>Setup</h4>"
   ]
  },
  {
   "cell_type": "code",
   "execution_count": 3,
   "metadata": {},
   "outputs": [],
   "source": [
    "from random import randrange\n",
    "\n",
    "def randomDataTest(size):\n",
    "    random_data = []\n",
    "    results = []\n",
    "    for i in range(0,size):\n",
    "        random_data.append(randrange(0,10))\n",
    "    for strategy in strategies:\n",
    "        results.append(CacheTest(strategy,random_data))\n",
    "    return results"
   ]
  },
  {
   "cell_type": "markdown",
   "metadata": {},
   "source": [
    "<h4>Size of 10</h4>"
   ]
  },
  {
   "cell_type": "code",
   "execution_count": 4,
   "metadata": {
    "scrolled": false
   },
   "outputs": [
    {
     "data": {
      "image/png": "[encoded data removed]",
      "text/plain": [
       "<Figure size 432x288 with 1 Axes>"
      ]
     },
     "metadata": {
      "needs_background": "light"
     },
     "output_type": "display_data"
    },
    {
     "name": "stdout",
     "output_type": "stream",
     "text": [
      "LRU: 7.12\n",
      "Cyclic: 7.08\n",
      "Random: 7.18\n"
     ]
    }
   ],
   "source": [
    "getGraph(repeat, 10, randomDataTest)"
   ]
  },
  {
   "cell_type": "markdown",
   "metadata": {},
   "source": [
    "<h4>Size of 50</h4>"
   ]
  },
  {
   "cell_type": "code",
   "execution_count": 5,
   "metadata": {
    "scrolled": false
   },
   "outputs": [
    {
     "data": {
      "image/png": "[encoded data removed]",
      "text/plain": [
       "<Figure size 432x288 with 1 Axes>"
      ]
     },
     "metadata": {
      "needs_background": "light"
     },
     "output_type": "display_data"
    },
    {
     "name": "stdout",
     "output_type": "stream",
     "text": [
      "LRU: 31.08\n",
      "Cyclic: 31.27\n",
      "Random: 30.3\n"
     ]
    }
   ],
   "source": [
    "getGraph(repeat, 50, randomDataTest)"
   ]
  },
  {
   "cell_type": "markdown",
   "metadata": {},
   "source": [
    "<h4>Size of 100</h4>"
   ]
  },
  {
   "cell_type": "code",
   "execution_count": 6,
   "metadata": {
    "scrolled": false
   },
   "outputs": [
    {
     "data": {
      "image/png": "[encoded data removed]",
      "text/plain": [
       "<Figure size 432x288 with 1 Axes>"
      ]
     },
     "metadata": {
      "needs_background": "light"
     },
     "output_type": "display_data"
    },
    {
     "name": "stdout",
     "output_type": "stream",
     "text": [
      "LRU: 60.83\n",
      "Cyclic: 61.32\n",
      "Random: 61.19\n"
     ]
    }
   ],
   "source": [
    "getGraph(repeat, 100, randomDataTest)"
   ]
  },
  {
   "cell_type": "markdown",
   "metadata": {},
   "source": [
    "<h2>Observation</h2>"
   ]
  },
  {
   "cell_type": "markdown",
   "metadata": {},
   "source": [
    "<h4>For a random dataset the three strategies seems to have little to no difference in hit count even in three dataset with different sizes</h4>"
   ]
  },
  {
   "cell_type": "markdown",
   "metadata": {},
   "source": [
    "<h1>Known Dataset</h1>"
   ]
  },
  {
   "cell_type": "markdown",
   "metadata": {},
   "source": [
    "<h1>1. Repeating address after a cycle</h1>"
   ]
  },
  {
   "cell_type": "markdown",
   "metadata": {},
   "source": [
    "<h2>Dataset with same address after cycle of 2</h2>"
   ]
  },
  {
   "cell_type": "code",
   "execution_count": 7,
   "metadata": {},
   "outputs": [],
   "source": [
    "def repeating2DataTest(size):\n",
    "    repeating2_data = []\n",
    "    results = []\n",
    "    repeating_num = randrange(0,9)\n",
    "    for i in range(0,int(size/2)):\n",
    "        repeating2_data.append(randrange(0,9))\n",
    "        repeating2_data.append(repeating_num)\n",
    "    for strategy in strategies:\n",
    "        results.append(CacheTest(strategy,repeating2_data))\n",
    "    return results"
   ]
  },
  {
   "cell_type": "code",
   "execution_count": 8,
   "metadata": {},
   "outputs": [
    {
     "data": {
      "image/png": "[encoded data removed]",
      "text/plain": [
       "<Figure size 432x288 with 1 Axes>"
      ]
     },
     "metadata": {
      "needs_background": "light"
     },
     "output_type": "display_data"
    },
    {
     "name": "stdout",
     "output_type": "stream",
     "text": [
      "LRU: 56.83\n",
      "Cyclic: 70.59\n",
      "Random: 69.96\n"
     ]
    }
   ],
   "source": [
    "getGraph(repeat, 100*2, repeating2DataTest)"
   ]
  },
  {
   "cell_type": "markdown",
   "metadata": {},
   "source": [
    "<h3>Small Observation</h3>\n",
    "<h4>In the case of repeating every 2 address, we can see LRU has a significant decrease in hit count</h4>"
   ]
  },
  {
   "cell_type": "markdown",
   "metadata": {},
   "source": [
    "<h2>Dataset with same address after cycle of 3</h2>"
   ]
  },
  {
   "cell_type": "code",
   "execution_count": 9,
   "metadata": {},
   "outputs": [],
   "source": [
    "def repeating3DataTest(size):\n",
    "    repeating3_data = []\n",
    "    results = []\n",
    "    repeating_num = randrange(0,9)\n",
    "    for i in range(0,int(size/3)):\n",
    "        repeating3_data.append(randrange(0,9))\n",
    "        repeating3_data.append(randrange(0,9))\n",
    "        repeating3_data.append(repeating_num)\n",
    "    for strategy in strategies:\n",
    "        results.append(CacheTest(strategy,repeating3_data))\n",
    "    return results"
   ]
  },
  {
   "cell_type": "code",
   "execution_count": 10,
   "metadata": {},
   "outputs": [
    {
     "data": {
      "image/png": "[encoded data removed]",
      "text/plain": [
       "<Figure size 432x288 with 1 Axes>"
      ]
     },
     "metadata": {
      "needs_background": "light"
     },
     "output_type": "display_data"
    },
    {
     "name": "stdout",
     "output_type": "stream",
     "text": [
      "LRU: 112.2\n",
      "Cyclic: 136.57\n",
      "Random: 136.66\n"
     ]
    }
   ],
   "source": [
    "getGraph(repeat, 100*3, repeating3DataTest)"
   ]
  },
  {
   "cell_type": "markdown",
   "metadata": {},
   "source": [
    "<h3>Small Observation</h3>\n",
    "<h4>In the case of repeating every 3 address, we can see LRU has a significant decrease in hit count</h4>"
   ]
  },
  {
   "cell_type": "markdown",
   "metadata": {},
   "source": [
    "<h2>Dataset with same address after cycle of 4</h2>"
   ]
  },
  {
   "cell_type": "code",
   "execution_count": 11,
   "metadata": {},
   "outputs": [],
   "source": [
    "def repeating4DataTest(size):\n",
    "    repeating4_data = []\n",
    "    results = []\n",
    "    repeating_num = randrange(0,9)\n",
    "    for i in range(0,int(size/4)):\n",
    "        repeating4_data.append(randrange(0,9))\n",
    "        repeating4_data.append(randrange(0,9))\n",
    "        repeating4_data.append(randrange(0,9))\n",
    "        repeating4_data.append(repeating_num)\n",
    "    for strategy in strategies:\n",
    "        results.append(CacheTest(strategy,repeating4_data))\n",
    "    return results"
   ]
  },
  {
   "cell_type": "code",
   "execution_count": 12,
   "metadata": {},
   "outputs": [
    {
     "data": {
      "image/png": "[encoded data removed]",
      "text/plain": [
       "<Figure size 432x288 with 1 Axes>"
      ]
     },
     "metadata": {
      "needs_background": "light"
     },
     "output_type": "display_data"
    },
    {
     "name": "stdout",
     "output_type": "stream",
     "text": [
      "LRU: 168.87\n",
      "Cyclic: 201.66\n",
      "Random: 200.43\n"
     ]
    }
   ],
   "source": [
    "getGraph(repeat, 100*4, repeating4DataTest)"
   ]
  },
  {
   "cell_type": "markdown",
   "metadata": {},
   "source": [
    "<h3>Small Observation</h3>\n",
    "<h4>In the case of repeating every 4 address, we can see LRU has a significant decrease in hit count</h4>"
   ]
  },
  {
   "cell_type": "markdown",
   "metadata": {},
   "source": [
    "<h2>Dataset with same address after cycle of 5</h2>"
   ]
  },
  {
   "cell_type": "code",
   "execution_count": 13,
   "metadata": {},
   "outputs": [],
   "source": [
    "def repeating5DataTest(size):\n",
    "    repeating5_data = []\n",
    "    results = []\n",
    "    repeating_num = randrange(0,9)\n",
    "    for i in range(0,int(size/5)):\n",
    "        repeating5_data.append(randrange(0,9))\n",
    "        repeating5_data.append(randrange(0,9))\n",
    "        repeating5_data.append(randrange(0,9))\n",
    "        repeating5_data.append(randrange(0,9))\n",
    "        repeating5_data.append(repeating_num)\n",
    "    for strategy in strategies:\n",
    "        results.append(CacheTest(strategy,repeating5_data))\n",
    "    return results"
   ]
  },
  {
   "cell_type": "code",
   "execution_count": 14,
   "metadata": {},
   "outputs": [
    {
     "data": {
      "image/png": "[encoded data removed]",
      "text/plain": [
       "<Figure size 432x288 with 1 Axes>"
      ]
     },
     "metadata": {
      "needs_background": "light"
     },
     "output_type": "display_data"
    },
    {
     "name": "stdout",
     "output_type": "stream",
     "text": [
      "LRU: 248.98\n",
      "Cyclic: 262.8\n",
      "Random: 261.53\n"
     ]
    }
   ],
   "source": [
    "getGraph(repeat, 100*5, repeating5DataTest)"
   ]
  },
  {
   "cell_type": "markdown",
   "metadata": {},
   "source": [
    "<h3>Small Observation</h3>\n",
    "<h4>In the case of repeating every 5 address, we can see LRU has a significant decrease in hit count</h4>"
   ]
  },
  {
   "cell_type": "markdown",
   "metadata": {},
   "source": [
    "<h2>Observation</h2>\n",
    "<h4>Caching strategy LRU seems to perform better than its counterparts when the dataset have repeating address every cycle while cyclic and random seems to perform similarly in this case</h4>"
   ]
  },
  {
   "cell_type": "markdown",
   "metadata": {},
   "source": [
    "<h1>2. Having a random address every n(size of cache) + 1 cycle</h1>"
   ]
  },
  {
   "cell_type": "markdown",
   "metadata": {},
   "source": [
    "<h3>Before that, let's try the cycle of 3</h3>"
   ]
  },
  {
   "cell_type": "code",
   "execution_count": 15,
   "metadata": {
    "scrolled": true
   },
   "outputs": [
    {
     "data": {
      "image/png": "[encoded data removed]",
      "text/plain": [
       "<Figure size 432x288 with 1 Axes>"
      ]
     },
     "metadata": {
      "needs_background": "light"
     },
     "output_type": "display_data"
    },
    {
     "name": "stdout",
     "output_type": "stream",
     "text": [
      "LRU: 61.95\n",
      "Cyclic: 100.94\n",
      "Random: 98.63\n"
     ]
    }
   ],
   "source": [
    "def test(size):\n",
    "    repeating5_data = []\n",
    "    results = []\n",
    "    for i in range(0,int(size/3)):\n",
    "        repeating5_data.append(1)\n",
    "        repeating5_data.append(2)\n",
    "        repeating5_data.append(randrange(0,10))\n",
    "    for strategy in strategies:\n",
    "        results.append(CacheTest(strategy,repeating5_data))\n",
    "    return results\n",
    "\n",
    "getGraph(repeat, 100 * 3, test)"
   ]
  },
  {
   "cell_type": "markdown",
   "metadata": {},
   "source": [
    "<h2>Observation</h2>\n",
    "<h4>Caching strategy LRU seems to perform better than its counterparts when the dataset have a random address every cycle with less than n + 1, while random still perform better than cyclic</h4>"
   ]
  },
  {
   "cell_type": "code",
   "execution_count": 16,
   "metadata": {},
   "outputs": [
    {
     "data": {
      "image/png": "[encoded data removed]",
      "text/plain": [
       "<Figure size 432x288 with 1 Axes>"
      ]
     },
     "metadata": {
      "needs_background": "light"
     },
     "output_type": "display_data"
    },
    {
     "name": "stdout",
     "output_type": "stream",
     "text": [
      "LRU: 278.56\n",
      "Cyclic: 278.56\n",
      "Random: 193.55\n"
     ]
    }
   ],
   "source": [
    "def test(size):\n",
    "    repeating5_data = []\n",
    "    results = []\n",
    "    for i in range(0,int(size/5)):\n",
    "        repeating5_data.append(1)\n",
    "        repeating5_data.append(2)\n",
    "        repeating5_data.append(3)\n",
    "        repeating5_data.append(4)\n",
    "        repeating5_data.append(randrange(0,9))\n",
    "    for strategy in strategies:\n",
    "        results.append(CacheTest(strategy,repeating5_data))\n",
    "    return results\n",
    "\n",
    "getGraph(repeat, 100 * 5, test)"
   ]
  },
  {
   "cell_type": "markdown",
   "metadata": {},
   "source": [
    "<h2>Observation</h2>\n",
    "<h4>Caching strategy random seems to perform better than its counterparts when the dataset have a random address every n + 1 cycle while cyclic and LRU seems to perform similarly in this case</h4>"
   ]
  },
  {
   "cell_type": "markdown",
   "metadata": {},
   "source": [
    "<h1>Size 10 Cache</h1>"
   ]
  },
  {
   "cell_type": "markdown",
   "metadata": {},
   "source": [
    "<h3>For size 10 cache I have increased the randrange to 20 so that the cache cannot store every address</h3>"
   ]
  },
  {
   "cell_type": "markdown",
   "metadata": {},
   "source": [
    "<h2>Random Dataset</h2>"
   ]
  },
  {
   "cell_type": "markdown",
   "metadata": {},
   "source": [
    "<h4>Setup</h4>"
   ]
  },
  {
   "cell_type": "code",
   "execution_count": 17,
   "metadata": {},
   "outputs": [],
   "source": [
    "from random import randrange\n",
    "\n",
    "def randomDataTest(size):\n",
    "    random_data = []\n",
    "    results = []\n",
    "    for i in range(0,size):\n",
    "        random_data.append(randrange(0,20))\n",
    "    for strategy in strategies:\n",
    "        results.append(CacheTest(strategy,random_data, 10))\n",
    "    return results"
   ]
  },
  {
   "cell_type": "markdown",
   "metadata": {},
   "source": [
    "<h4>Size of 10</h4>"
   ]
  },
  {
   "cell_type": "code",
   "execution_count": 18,
   "metadata": {
    "scrolled": false
   },
   "outputs": [
    {
     "data": {
      "image/png": "[encoded data removed]",
      "text/plain": [
       "<Figure size 432x288 with 1 Axes>"
      ]
     },
     "metadata": {
      "needs_background": "light"
     },
     "output_type": "display_data"
    },
    {
     "name": "stdout",
     "output_type": "stream",
     "text": [
      "LRU: 8.12\n",
      "Cyclic: 8.12\n",
      "Random: 8.12\n"
     ]
    }
   ],
   "source": [
    "getGraph(repeat, 10, randomDataTest)"
   ]
  },
  {
   "cell_type": "markdown",
   "metadata": {},
   "source": [
    "<h4>Size of 50</h4>"
   ]
  },
  {
   "cell_type": "code",
   "execution_count": 19,
   "metadata": {
    "scrolled": false
   },
   "outputs": [
    {
     "data": {
      "image/png": "[encoded data removed]",
      "text/plain": [
       "<Figure size 432x288 with 1 Axes>"
      ]
     },
     "metadata": {
      "needs_background": "light"
     },
     "output_type": "display_data"
    },
    {
     "name": "stdout",
     "output_type": "stream",
     "text": [
      "LRU: 28.19\n",
      "Cyclic: 28.26\n",
      "Random: 28.43\n"
     ]
    }
   ],
   "source": [
    "getGraph(repeat, 50, randomDataTest)"
   ]
  },
  {
   "cell_type": "markdown",
   "metadata": {},
   "source": [
    "<h4>Size of 100</h4>"
   ]
  },
  {
   "cell_type": "code",
   "execution_count": 20,
   "metadata": {
    "scrolled": false
   },
   "outputs": [
    {
     "data": {
      "image/png": "[encoded data removed]",
      "text/plain": [
       "<Figure size 432x288 with 1 Axes>"
      ]
     },
     "metadata": {
      "needs_background": "light"
     },
     "output_type": "display_data"
    },
    {
     "name": "stdout",
     "output_type": "stream",
     "text": [
      "LRU: 52.66\n",
      "Cyclic: 52.86\n",
      "Random: 53.35\n"
     ]
    }
   ],
   "source": [
    "getGraph(repeat, 100, randomDataTest)"
   ]
  },
  {
   "cell_type": "markdown",
   "metadata": {},
   "source": [
    "<h2>Observation</h2>"
   ]
  },
  {
   "cell_type": "markdown",
   "metadata": {},
   "source": [
    "<h4>Same for size 10 cahce, for a random dataset the three strategies seems to have little to no difference in hit count even in three dataset with different sizes</h4>"
   ]
  },
  {
   "cell_type": "markdown",
   "metadata": {},
   "source": [
    "<h1>Known Dataset</h1>"
   ]
  },
  {
   "cell_type": "markdown",
   "metadata": {},
   "source": [
    "<h1>1. Repeating address after a cycle</h1>"
   ]
  },
  {
   "cell_type": "markdown",
   "metadata": {},
   "source": [
    "<h2>Dataset with same address after cycle of 2</h2>"
   ]
  },
  {
   "cell_type": "code",
   "execution_count": 21,
   "metadata": {},
   "outputs": [],
   "source": [
    "def repeating2DataTest(size):\n",
    "    repeating2_data = []\n",
    "    results = []\n",
    "    repeating_num = randrange(0,9)\n",
    "    for i in range(0,int(size/2)):\n",
    "        repeating2_data.append(randrange(0,20))\n",
    "        repeating2_data.append(repeating_num)\n",
    "    for strategy in strategies:\n",
    "        results.append(CacheTest(strategy,repeating2_data, 10))\n",
    "    return results"
   ]
  },
  {
   "cell_type": "code",
   "execution_count": 22,
   "metadata": {},
   "outputs": [
    {
     "data": {
      "image/png": "[encoded data removed]",
      "text/plain": [
       "<Figure size 432x288 with 1 Axes>"
      ]
     },
     "metadata": {
      "needs_background": "light"
     },
     "output_type": "display_data"
    },
    {
     "name": "stdout",
     "output_type": "stream",
     "text": [
      "LRU: 53.84\n",
      "Cyclic: 58.1\n",
      "Random: 58.14\n"
     ]
    }
   ],
   "source": [
    "getGraph(repeat, 100*2, repeating2DataTest)"
   ]
  },
  {
   "cell_type": "markdown",
   "metadata": {},
   "source": [
    "<h2>Dataset with same address after cycle of 3</h2>"
   ]
  },
  {
   "cell_type": "code",
   "execution_count": 23,
   "metadata": {},
   "outputs": [],
   "source": [
    "def repeating3DataTest(size):\n",
    "    repeating3_data = []\n",
    "    results = []\n",
    "    repeating_num = randrange(0,9)\n",
    "    for i in range(0,int(size/3)):\n",
    "        repeating3_data.append(randrange(0,20))\n",
    "        repeating3_data.append(randrange(0,20))\n",
    "        repeating3_data.append(repeating_num)\n",
    "    for strategy in strategies:\n",
    "        results.append(CacheTest(strategy,repeating3_data, 10))\n",
    "    return results"
   ]
  },
  {
   "cell_type": "code",
   "execution_count": 24,
   "metadata": {},
   "outputs": [
    {
     "data": {
      "image/png": "[encoded data removed]",
      "text/plain": [
       "<Figure size 432x288 with 1 Axes>"
      ]
     },
     "metadata": {
      "needs_background": "light"
     },
     "output_type": "display_data"
    },
    {
     "name": "stdout",
     "output_type": "stream",
     "text": [
      "LRU: 103.69\n",
      "Cyclic: 112.82\n",
      "Random: 112.53\n"
     ]
    }
   ],
   "source": [
    "getGraph(repeat, 100*3, repeating3DataTest)"
   ]
  },
  {
   "cell_type": "markdown",
   "metadata": {},
   "source": [
    "<h2>Dataset with same address after cycle of 4</h2>"
   ]
  },
  {
   "cell_type": "code",
   "execution_count": 25,
   "metadata": {},
   "outputs": [],
   "source": [
    "def repeating4DataTest(size):\n",
    "    repeating4_data = []\n",
    "    results = []\n",
    "    repeating_num = randrange(0,9)\n",
    "    for i in range(0,int(size/4)):\n",
    "        repeating4_data.append(randrange(0,20))\n",
    "        repeating4_data.append(randrange(0,20))\n",
    "        repeating4_data.append(randrange(0,20))\n",
    "        repeating4_data.append(repeating_num)\n",
    "    for strategy in strategies:\n",
    "        results.append(CacheTest(strategy,repeating4_data, 10))\n",
    "    return results"
   ]
  },
  {
   "cell_type": "code",
   "execution_count": 26,
   "metadata": {},
   "outputs": [
    {
     "data": {
      "image/png": "[encoded data removed]",
      "text/plain": [
       "<Figure size 432x288 with 1 Axes>"
      ]
     },
     "metadata": {
      "needs_background": "light"
     },
     "output_type": "display_data"
    },
    {
     "name": "stdout",
     "output_type": "stream",
     "text": [
      "LRU: 154.56\n",
      "Cyclic: 167.41\n",
      "Random: 170.13\n"
     ]
    }
   ],
   "source": [
    "getGraph(repeat, 100*4, repeating4DataTest)"
   ]
  },
  {
   "cell_type": "markdown",
   "metadata": {},
   "source": [
    "<h2>Dataset with same address after cycle of 5</h2>"
   ]
  },
  {
   "cell_type": "code",
   "execution_count": 27,
   "metadata": {},
   "outputs": [],
   "source": [
    "def repeating5DataTest(size):\n",
    "    repeating5_data = []\n",
    "    results = []\n",
    "    repeating_num = randrange(0,9)\n",
    "    for i in range(0,int(size/5)):\n",
    "        repeating5_data.append(randrange(0,20))\n",
    "        repeating5_data.append(randrange(0,20))\n",
    "        repeating5_data.append(randrange(0,20))\n",
    "        repeating5_data.append(randrange(0,20))\n",
    "        repeating5_data.append(repeating_num)\n",
    "    for strategy in strategies:\n",
    "        results.append(CacheTest(strategy,repeating5_data, 10))\n",
    "    return results"
   ]
  },
  {
   "cell_type": "code",
   "execution_count": 28,
   "metadata": {},
   "outputs": [
    {
     "data": {
      "image/png": "[encoded data removed]",
      "text/plain": [
       "<Figure size 432x288 with 1 Axes>"
      ]
     },
     "metadata": {
      "needs_background": "light"
     },
     "output_type": "display_data"
    },
    {
     "name": "stdout",
     "output_type": "stream",
     "text": [
      "LRU: 205.07\n",
      "Cyclic: 221.35\n",
      "Random: 222.04\n"
     ]
    }
   ],
   "source": [
    "getGraph(repeat, 100*5, repeating5DataTest)"
   ]
  },
  {
   "cell_type": "markdown",
   "metadata": {},
   "source": [
    "<h2>Observation</h2>\n",
    "<h4>Same for size 10 cahce ,caching strategy LRU seems to perform better than its counterparts when the dataset have repeating address every cycle while cyclic and random seems to perform similarly in this case</h4>"
   ]
  },
  {
   "cell_type": "markdown",
   "metadata": {},
   "source": [
    "<h1>2. Having a random address every n(size of cache) + 1 cycle</h1>"
   ]
  },
  {
   "cell_type": "markdown",
   "metadata": {},
   "source": [
    "<h3>Before that, let's try the cycle of 5</h3>"
   ]
  },
  {
   "cell_type": "code",
   "execution_count": 29,
   "metadata": {
    "scrolled": true
   },
   "outputs": [
    {
     "data": {
      "image/png": "[encoded data removed]",
      "text/plain": [
       "<Figure size 432x288 with 1 Axes>"
      ]
     },
     "metadata": {
      "needs_background": "light"
     },
     "output_type": "display_data"
    },
    {
     "name": "stdout",
     "output_type": "stream",
     "text": [
      "LRU: 55.45\n",
      "Cyclic: 83.09\n",
      "Random: 80.96\n"
     ]
    }
   ],
   "source": [
    "def test(size):\n",
    "    repeating5_data = []\n",
    "    results = []\n",
    "    for i in range(0,int(size/5)):\n",
    "        repeating5_data.append(1)\n",
    "        repeating5_data.append(2)\n",
    "        repeating5_data.append(3)\n",
    "        repeating5_data.append(4)\n",
    "        repeating5_data.append(randrange(0,20))\n",
    "    for strategy in strategies:\n",
    "        results.append(CacheTest(strategy,repeating5_data, 10))\n",
    "    return results\n",
    "\n",
    "getGraph(repeat, 100*5, test)"
   ]
  },
  {
   "cell_type": "markdown",
   "metadata": {},
   "source": [
    "<h2>Observation</h2>\n",
    "<h4>It is the same for cache size 5, caching strategy LRU seems to perform better than its counterparts when the dataset have a random address every cycle with less than n + 1, while random still perform better than cyclic</h4>"
   ]
  },
  {
   "cell_type": "markdown",
   "metadata": {},
   "source": [
    "<h3>Now test the cycle n + 1</h3>"
   ]
  },
  {
   "cell_type": "code",
   "execution_count": 30,
   "metadata": {},
   "outputs": [
    {
     "data": {
      "image/png": "[encoded data removed]",
      "text/plain": [
       "<Figure size 432x288 with 1 Axes>"
      ]
     },
     "metadata": {
      "needs_background": "light"
     },
     "output_type": "display_data"
    },
    {
     "name": "stdout",
     "output_type": "stream",
     "text": [
      "LRU: 2105.72\n",
      "Cyclic: 2105.72\n",
      "Random: 1786.54\n"
     ]
    }
   ],
   "source": [
    "def test(size):\n",
    "    repeating5_data = []\n",
    "    results = []\n",
    "    for i in range(0,int(size/21)):\n",
    "        for i in range(0, 21):\n",
    "            repeating5_data.append(i)\n",
    "        repeating5_data.append(randrange(0,20))\n",
    "    for strategy in strategies:\n",
    "        results.append(CacheTest(strategy,repeating5_data, 10))\n",
    "    return results\n",
    "\n",
    "getGraph(repeat, 100*21, test)"
   ]
  },
  {
   "cell_type": "markdown",
   "metadata": {},
   "source": [
    "<h2>Observation</h2>\n",
    "<h4>Same for cache size of 5 ,caching strategy random seems to perform better than its counterparts when the dataset have a random address every n + 1 cycle while cyclic and LRU seems to perform similarly in this case</h4>"
   ]
  },
  {
   "cell_type": "markdown",
   "metadata": {},
   "source": [
    "<h1>Conclusion</h1>\n",
    "<h2>Random dataset</h2>\n",
    "<h3>In these experiment, we can observated that if the dataset is random, the three caching strategy had little to no difference in hit count no matter the cache size.</h3>\n",
    "<h2>Known dataset</h2>\n",
    "<h2>1. Same address after a cycle</h2>\n",
    "<h3>In these experiment, we can observated that if the dataset have same address after a cycle, caching strategy LRU perform better than its counterparts no matter the size</h3>\n",
    "<h2>2. Random address after a cycle of n + 1</h2>\n",
    "<h3>In these experiment, we can observated that if the dataset have random address after a cycle n + 1, where n being the cache size, caching strategy random perform better than its counterparts, but if the cycle is less than n + 1, LRU performs the best followed by random and cyclic is the worst</h3>"
   ]
  }
 ],
 "metadata": {
  "kernelspec": {
   "display_name": "Python 3",
   "language": "python",
   "name": "python3"
  },
  "language_info": {
   "codemirror_mode": {
    "name": "ipython",
    "version": 3
   },
   "file_extension": ".py",
   "mimetype": "text/x-python",
   "name": "python",
   "nbconvert_exporter": "python",
   "pygments_lexer": "ipython3",
   "version": "3.8.5"
  }
 },
 "nbformat": 4,
 "nbformat_minor": 4
}
